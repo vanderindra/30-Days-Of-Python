{
 "cells": [
  {
   "cell_type": "markdown",
   "id": "7df00dc5-fc3b-45eb-acef-810f22d096d2",
   "metadata": {},
   "source": [
    "# Tuple"
   ]
  },
  {
   "cell_type": "markdown",
   "id": "446ff2d4-6dda-4f7b-aca6-8847ce89ad96",
   "metadata": {},
   "source": [
    "## Defining a Tuple"
   ]
  },
  {
   "cell_type": "code",
   "execution_count": 14,
   "id": "3e651983-4fbd-4bdd-8e60-d98462b3fe4f",
   "metadata": {},
   "outputs": [
    {
     "name": "stdout",
     "output_type": "stream",
     "text": [
      "200\n",
      "50\n"
     ]
    }
   ],
   "source": [
    "dimensions = (200, 50)\n",
    "print(dimensions[0])\n",
    "print(dimensions[1])"
   ]
  },
  {
   "cell_type": "code",
   "execution_count": 16,
   "id": "b7af6d16-ebb7-4918-8091-cac8e3898c40",
   "metadata": {},
   "outputs": [
    {
     "ename": "TypeError",
     "evalue": "'tuple' object does not support item assignment",
     "output_type": "error",
     "traceback": [
      "\u001b[1;31m---------------------------------------------------------------------------\u001b[0m",
      "\u001b[1;31mTypeError\u001b[0m                                 Traceback (most recent call last)",
      "\u001b[1;32m<ipython-input-16-00271e61a311>\u001b[0m in \u001b[0;36m<module>\u001b[1;34m\u001b[0m\n\u001b[1;32m----> 1\u001b[1;33m \u001b[0mdimensions\u001b[0m\u001b[1;33m[\u001b[0m\u001b[1;36m0\u001b[0m\u001b[1;33m]\u001b[0m \u001b[1;33m=\u001b[0m \u001b[1;36m250\u001b[0m\u001b[1;33m\u001b[0m\u001b[1;33m\u001b[0m\u001b[0m\n\u001b[0m",
      "\u001b[1;31mTypeError\u001b[0m: 'tuple' object does not support item assignment"
     ]
    }
   ],
   "source": [
    "dimensions[0] = 250"
   ]
  },
  {
   "cell_type": "markdown",
   "id": "58b02963-d5c8-482b-b7c7-717bef3043e3",
   "metadata": {},
   "source": [
    "## Looping Trough Values in a Tuple"
   ]
  },
  {
   "cell_type": "code",
   "execution_count": 18,
   "id": "7b099e28-e841-42b7-bfee-ff09c7c8f029",
   "metadata": {},
   "outputs": [
    {
     "name": "stdout",
     "output_type": "stream",
     "text": [
      "200\n",
      "50\n"
     ]
    }
   ],
   "source": [
    "for dimension in dimensions:\n",
    "    print(dimension)"
   ]
  },
  {
   "cell_type": "markdown",
   "id": "a2bd257f-95d6-4096-9b4e-599535d0392a",
   "metadata": {},
   "source": [
    "## Looping Triugh All Values in a Tuple"
   ]
  },
  {
   "cell_type": "code",
   "execution_count": 19,
   "id": "a291be10-b90f-4d42-b0b7-30294c3b01f5",
   "metadata": {},
   "outputs": [
    {
     "name": "stdout",
     "output_type": "stream",
     "text": [
      "Original dimensions:\n",
      "200\n",
      "50\n",
      "\n",
      "Modified Dimensions:\n",
      "400\n",
      "100\n"
     ]
    }
   ],
   "source": [
    "print(\"Original dimensions:\")\n",
    "for dimension in dimensions:\n",
    "    print(dimension)\n",
    "    \n",
    "dimensions = (400, 100)\n",
    "print(\"\\nModified Dimensions:\")\n",
    "for dimension in dimensions:\n",
    "    print(dimension)"
   ]
  },
  {
   "cell_type": "code",
   "execution_count": 21,
   "id": "905dd978-297f-4064-aa36-18de3e885a60",
   "metadata": {},
   "outputs": [
    {
     "name": "stdout",
     "output_type": "stream",
     "text": [
      "Soto\n",
      "Rawon\n",
      "Nasi Goreng\n",
      "Sate Ayam\n"
     ]
    }
   ],
   "source": [
    "simple_food = ('soto', 'rawon', 'nasi goreng', 'sate ayam')\n",
    "for food in simple_food:\n",
    "    print(food.title())"
   ]
  },
  {
   "cell_type": "code",
   "execution_count": 22,
   "id": "15cc1d4f-95d1-449f-89af-d8fb5564f6e8",
   "metadata": {},
   "outputs": [
    {
     "ename": "AttributeError",
     "evalue": "'tuple' object has no attribute 'append'",
     "output_type": "error",
     "traceback": [
      "\u001b[1;31m---------------------------------------------------------------------------\u001b[0m",
      "\u001b[1;31mAttributeError\u001b[0m                            Traceback (most recent call last)",
      "\u001b[1;32m<ipython-input-22-fc9ee882800e>\u001b[0m in \u001b[0;36m<module>\u001b[1;34m\u001b[0m\n\u001b[1;32m----> 1\u001b[1;33m \u001b[0msimple_food\u001b[0m\u001b[1;33m.\u001b[0m\u001b[0mappend\u001b[0m\u001b[1;33m(\u001b[0m\u001b[1;34m'sate padang'\u001b[0m\u001b[1;33m)\u001b[0m\u001b[1;33m\u001b[0m\u001b[1;33m\u001b[0m\u001b[0m\n\u001b[0m",
      "\u001b[1;31mAttributeError\u001b[0m: 'tuple' object has no attribute 'append'"
     ]
    }
   ],
   "source": [
    "simple_food.append('sate padang')"
   ]
  },
  {
   "cell_type": "code",
   "execution_count": 23,
   "id": "a6a3bf31-797c-4b75-80bf-4df2e858de8d",
   "metadata": {},
   "outputs": [
    {
     "name": "stdout",
     "output_type": "stream",
     "text": [
      "Original Menu:\n",
      "soto\n",
      "rawon\n",
      "nasi goreng\n",
      "sate ayam\n",
      "\n",
      "New Menu:\n",
      "steak\n",
      "sphagetti\n",
      "roasted chicken\n",
      "pizza\n",
      "lasagna\n"
     ]
    }
   ],
   "source": [
    "print(\"Original Menu:\")\n",
    "for food in simple_food:\n",
    "    print(food)\n",
    "    \n",
    "print('\\nNew Menu:')\n",
    "new_food = ('steak', 'sphagetti', 'roasted chicken', 'pizza', 'lasagna')\n",
    "for new_menu in new_food:\n",
    "    print(new_menu)"
   ]
  },
  {
   "cell_type": "code",
   "execution_count": null,
   "id": "b31fac4f-9dba-4168-be87-5257ccae1d8f",
   "metadata": {},
   "outputs": [],
   "source": []
  }
 ],
 "metadata": {
  "kernelspec": {
   "display_name": "Python 3",
   "language": "python",
   "name": "python3"
  },
  "language_info": {
   "codemirror_mode": {
    "name": "ipython",
    "version": 3
   },
   "file_extension": ".py",
   "mimetype": "text/x-python",
   "name": "python",
   "nbconvert_exporter": "python",
   "pygments_lexer": "ipython3",
   "version": "3.9.1"
  }
 },
 "nbformat": 4,
 "nbformat_minor": 5
}
