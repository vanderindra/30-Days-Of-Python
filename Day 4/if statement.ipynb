{
 "cells": [
  {
   "cell_type": "markdown",
   "id": "a49dad71-bb88-4085-ae56-5afb91f78d63",
   "metadata": {},
   "source": [
    "# If Statement"
   ]
  },
  {
   "cell_type": "code",
   "execution_count": 10,
   "id": "46823e94-15c5-4781-87af-b97ccd1be33f",
   "metadata": {},
   "outputs": [
    {
     "name": "stdout",
     "output_type": "stream",
     "text": [
      "AUDI\n",
      "Bmw\n",
      "Subaru\n",
      "Toyota\n"
     ]
    }
   ],
   "source": [
    "cars = ['audi', 'bmw', 'subaru', 'toyota']\n",
    "\n",
    "for car in cars:\n",
    "    if car == 'audi':\n",
    "        print(car.upper())\n",
    "    else:\n",
    "        print(car.title())"
   ]
  },
  {
   "cell_type": "markdown",
   "id": "26c2a5cc-57af-4517-b476-d3312d87034c",
   "metadata": {},
   "source": [
    "## Conditional Test\n",
    "## Check for Equality"
   ]
  },
  {
   "cell_type": "code",
   "execution_count": 11,
   "id": "029fc501-d84b-481f-ac46-43366063017d",
   "metadata": {},
   "outputs": [
    {
     "data": {
      "text/plain": [
       "True"
      ]
     },
     "execution_count": 11,
     "metadata": {},
     "output_type": "execute_result"
    }
   ],
   "source": [
    "car = 'bmw'\n",
    "car == 'bmw'"
   ]
  },
  {
   "cell_type": "code",
   "execution_count": 12,
   "id": "b48b9d14-38e8-4134-89c5-87c8a82fb6ee",
   "metadata": {},
   "outputs": [
    {
     "data": {
      "text/plain": [
       "False"
      ]
     },
     "execution_count": 12,
     "metadata": {},
     "output_type": "execute_result"
    }
   ],
   "source": [
    "car = 'audi'\n",
    "car == 'bmw'"
   ]
  },
  {
   "cell_type": "code",
   "execution_count": 13,
   "id": "4b3b133d-f523-4b26-a935-5add4e5429b9",
   "metadata": {},
   "outputs": [
    {
     "data": {
      "text/plain": [
       "False"
      ]
     },
     "execution_count": 13,
     "metadata": {},
     "output_type": "execute_result"
    }
   ],
   "source": [
    "car = 'audi'\n",
    "car == 'Audi'"
   ]
  },
  {
   "cell_type": "code",
   "execution_count": 14,
   "id": "34737932-0d1f-4827-bd79-4d12aff8fe3a",
   "metadata": {},
   "outputs": [
    {
     "data": {
      "text/plain": [
       "True"
      ]
     },
     "execution_count": 14,
     "metadata": {},
     "output_type": "execute_result"
    }
   ],
   "source": [
    "car = 'Audi'\n",
    "car.lower() == 'audi'"
   ]
  },
  {
   "cell_type": "code",
   "execution_count": 15,
   "id": "aedfc806-5a8d-4449-a7c6-0cef8e19e724",
   "metadata": {},
   "outputs": [
    {
     "data": {
      "text/plain": [
       "'Audi'"
      ]
     },
     "execution_count": 15,
     "metadata": {},
     "output_type": "execute_result"
    }
   ],
   "source": [
    "car"
   ]
  },
  {
   "cell_type": "markdown",
   "id": "0ddcf9a8-0044-4122-bfc3-b01a32a5d3b8",
   "metadata": {},
   "source": [
    "## Checking for Inequality"
   ]
  },
  {
   "cell_type": "code",
   "execution_count": 16,
   "id": "7aa1b273-95a4-4a54-bfae-bc0459e9b893",
   "metadata": {},
   "outputs": [
    {
     "name": "stdout",
     "output_type": "stream",
     "text": [
      "Hold the anchoivies!\n"
     ]
    }
   ],
   "source": [
    "requested_topping = 'mushroom'\n",
    "\n",
    "if requested_topping != 'anchoivies':\n",
    "    print(\"Hold the anchoivies!\")"
   ]
  },
  {
   "cell_type": "markdown",
   "id": "e71a6f96-7055-4a48-8831-24b6384568fd",
   "metadata": {},
   "source": [
    "## Numerical Comparisons"
   ]
  },
  {
   "cell_type": "code",
   "execution_count": 17,
   "id": "7844e57d-01c3-48a5-a1ea-40dfd1061f2b",
   "metadata": {},
   "outputs": [
    {
     "data": {
      "text/plain": [
       "True"
      ]
     },
     "execution_count": 17,
     "metadata": {},
     "output_type": "execute_result"
    }
   ],
   "source": [
    "age = 18\n",
    "age == 18"
   ]
  },
  {
   "cell_type": "code",
   "execution_count": 18,
   "id": "3bd1ef7d-37ca-419a-8cbb-c987872a4bfd",
   "metadata": {},
   "outputs": [
    {
     "name": "stdout",
     "output_type": "stream",
     "text": [
      "That is not the correct answer. Please try again!\n"
     ]
    }
   ],
   "source": [
    "answer = 17\n",
    "\n",
    "if answer != 42:\n",
    "    print(\"That is not the correct answer. Please try again!\")"
   ]
  },
  {
   "cell_type": "code",
   "execution_count": 20,
   "id": "cb115a29-2e7b-425f-8ac0-a03702345422",
   "metadata": {},
   "outputs": [],
   "source": [
    "age = 19"
   ]
  },
  {
   "cell_type": "code",
   "execution_count": 21,
   "id": "764c73a0-b798-4b9a-9afc-423ee105b6a9",
   "metadata": {},
   "outputs": [
    {
     "data": {
      "text/plain": [
       "True"
      ]
     },
     "execution_count": 21,
     "metadata": {},
     "output_type": "execute_result"
    }
   ],
   "source": [
    "age < 21\n"
   ]
  },
  {
   "cell_type": "code",
   "execution_count": 22,
   "id": "968fd40d-c73d-4bc5-abeb-c2fd9f958448",
   "metadata": {},
   "outputs": [
    {
     "data": {
      "text/plain": [
       "True"
      ]
     },
     "execution_count": 22,
     "metadata": {},
     "output_type": "execute_result"
    }
   ],
   "source": [
    "age <= 21"
   ]
  },
  {
   "cell_type": "code",
   "execution_count": 23,
   "id": "3e8c874e-c76f-4b95-bd2c-52f16ccc6522",
   "metadata": {},
   "outputs": [
    {
     "data": {
      "text/plain": [
       "False"
      ]
     },
     "execution_count": 23,
     "metadata": {},
     "output_type": "execute_result"
    }
   ],
   "source": [
    "age > 21"
   ]
  },
  {
   "cell_type": "code",
   "execution_count": 24,
   "id": "44b507c4-d368-47b4-8d8a-ac0360f63860",
   "metadata": {},
   "outputs": [
    {
     "data": {
      "text/plain": [
       "False"
      ]
     },
     "execution_count": 24,
     "metadata": {},
     "output_type": "execute_result"
    }
   ],
   "source": [
    "age >= 21"
   ]
  },
  {
   "cell_type": "markdown",
   "id": "d0eb74c3-7ce3-4b13-8b7e-43efcb4f180e",
   "metadata": {},
   "source": [
    "## Checking Multiple Conditions"
   ]
  },
  {
   "cell_type": "code",
   "execution_count": 25,
   "id": "77395016-8825-4999-9831-49f71d28fb43",
   "metadata": {},
   "outputs": [],
   "source": [
    "age_0 = 22\n",
    "age_1 = 18"
   ]
  },
  {
   "cell_type": "code",
   "execution_count": 26,
   "id": "2006b3f1-26f0-4099-b738-55870f70ecd4",
   "metadata": {},
   "outputs": [
    {
     "data": {
      "text/plain": [
       "False"
      ]
     },
     "execution_count": 26,
     "metadata": {},
     "output_type": "execute_result"
    }
   ],
   "source": [
    "age_0 >= 21 and age_1 >= 21"
   ]
  },
  {
   "cell_type": "code",
   "execution_count": 28,
   "id": "20aa8c25-5a06-4c72-92cf-589ba9b7a3cb",
   "metadata": {},
   "outputs": [
    {
     "data": {
      "text/plain": [
       "True"
      ]
     },
     "execution_count": 28,
     "metadata": {},
     "output_type": "execute_result"
    }
   ],
   "source": [
    "age_1 = 22\n",
    "age_0 >= 21 and age_1 >= 21"
   ]
  },
  {
   "cell_type": "markdown",
   "id": "30208edc-6d65-4871-ae0d-e0e0fc920213",
   "metadata": {},
   "source": [
    "## Checking Wheter a Value is in a list"
   ]
  },
  {
   "cell_type": "code",
   "execution_count": 29,
   "id": "c9d25bdc-8dbc-4238-be20-22898233794e",
   "metadata": {},
   "outputs": [],
   "source": [
    "requested_toppings = ['mushroom', 'onions', 'pineapple']"
   ]
  },
  {
   "cell_type": "code",
   "execution_count": 30,
   "id": "191b302e-6ed7-4df2-bebe-8a955b64a9b3",
   "metadata": {},
   "outputs": [
    {
     "data": {
      "text/plain": [
       "True"
      ]
     },
     "execution_count": 30,
     "metadata": {},
     "output_type": "execute_result"
    }
   ],
   "source": [
    "'mushroom' in requested_toppings"
   ]
  },
  {
   "cell_type": "code",
   "execution_count": 32,
   "id": "19e627f8-aab7-491c-a911-c9bc466c2329",
   "metadata": {},
   "outputs": [
    {
     "data": {
      "text/plain": [
       "False"
      ]
     },
     "execution_count": 32,
     "metadata": {},
     "output_type": "execute_result"
    }
   ],
   "source": [
    "'pepperoni' in requested_topping"
   ]
  },
  {
   "cell_type": "markdown",
   "id": "671c6316-f7a6-43b2-9b77-888b6c667c86",
   "metadata": {},
   "source": [
    "## Checking Whether a Value is in a list"
   ]
  },
  {
   "cell_type": "code",
   "execution_count": 33,
   "id": "ac683023-1f31-491a-9912-48e582834d02",
   "metadata": {},
   "outputs": [
    {
     "name": "stdout",
     "output_type": "stream",
     "text": [
      "Marie, you can post in a response if you wish\n"
     ]
    }
   ],
   "source": [
    "banned_users = ['andrew', 'carolina', 'david']\n",
    "\n",
    "user = 'marie'\n",
    "if user not in banned_users:\n",
    "    print(user.title() + \", you can post in a response if you wish\")"
   ]
  },
  {
   "cell_type": "code",
   "execution_count": 37,
   "id": "0daeddac-3b70-4777-aad3-e13e06d9ce05",
   "metadata": {},
   "outputs": [
    {
     "name": "stdout",
     "output_type": "stream",
     "text": [
      "I predict it True\n"
     ]
    }
   ],
   "source": [
    "car = 'subaru'\n",
    "if car == 'subaru':\n",
    "    print(\"I predict it True\")"
   ]
  },
  {
   "cell_type": "code",
   "execution_count": 38,
   "id": "8dcdd9fa-6ea7-4e9f-aba1-11a4c6ca9e7b",
   "metadata": {},
   "outputs": [
    {
     "name": "stdout",
     "output_type": "stream",
     "text": [
      "You are old enough to vote!\n"
     ]
    }
   ],
   "source": [
    "age = 19\n",
    "if age >= 18:\n",
    "    print(\"You are old enough to vote!\")"
   ]
  },
  {
   "cell_type": "code",
   "execution_count": 39,
   "id": "df06d34f-6853-46ee-957a-a56b8a8bb618",
   "metadata": {},
   "outputs": [
    {
     "name": "stdout",
     "output_type": "stream",
     "text": [
      "You are old enough to vote!\n",
      "Have you registered to vote yet?\n"
     ]
    }
   ],
   "source": [
    "age = 19\n",
    "if age >= 18:\n",
    "    print(\"You are old enough to vote!\")\n",
    "    print(\"Have you registered to vote yet?\")"
   ]
  },
  {
   "cell_type": "code",
   "execution_count": 40,
   "id": "8df442a8-8110-4541-b78c-6845e0619062",
   "metadata": {},
   "outputs": [
    {
     "name": "stdout",
     "output_type": "stream",
     "text": [
      "Sorry, you are too young to vote.\n",
      "Please register to vote as soon as you turn 18/\n"
     ]
    }
   ],
   "source": [
    "age = 17\n",
    "if age >= 18:\n",
    "    print(\"You are old enough to vote!\")\n",
    "    print(\"Have you registered to vote yet?\")\n",
    "else:\n",
    "    print(\"Sorry, you are too young to vote.\")\n",
    "    print(\"Please register to vote as soon as you turn 18/\")"
   ]
  },
  {
   "cell_type": "markdown",
   "id": "97e296b5-da97-41e9-8061-26fae9259a9e",
   "metadata": {},
   "source": [
    "## The if-elif-else Chain"
   ]
  },
  {
   "cell_type": "code",
   "execution_count": 41,
   "id": "165e77fb-adf7-4059-825e-c4249bf360b4",
   "metadata": {},
   "outputs": [
    {
     "name": "stdout",
     "output_type": "stream",
     "text": [
      "Your admission cost is $5\n"
     ]
    }
   ],
   "source": [
    "age = 12\n",
    "if age < 4:\n",
    "    print(\"Your admission cost is $0\")\n",
    "elif age < 18:\n",
    "    print(\"Your admission cost is $5\")\n",
    "else:\n",
    "    print(\"Your admission cost is $10\")"
   ]
  },
  {
   "cell_type": "code",
   "execution_count": 44,
   "id": "9a19138b-ac6d-4fba-8070-698fa764c2e1",
   "metadata": {},
   "outputs": [
    {
     "name": "stdout",
     "output_type": "stream",
     "text": [
      "Your admission cost is $5.\n"
     ]
    }
   ],
   "source": [
    "age = 12\n",
    "if age < 4:\n",
    "    price = 0\n",
    "elif age < 18:\n",
    "    price = 5\n",
    "else:\n",
    "    price = 10\n",
    "    \n",
    "print(\"Your admission cost is $\" + str(price) + \".\")"
   ]
  },
  {
   "cell_type": "markdown",
   "id": "00201003-5e34-4930-a343-a2ec760ba86f",
   "metadata": {},
   "source": [
    "## Using Multiple Elif Block"
   ]
  },
  {
   "cell_type": "code",
   "execution_count": 46,
   "id": "e0bfbfd7-e1aa-4f21-91cc-f7a8463ecc5b",
   "metadata": {},
   "outputs": [
    {
     "name": "stdout",
     "output_type": "stream",
     "text": [
      "Your admission cost is $5.\n"
     ]
    }
   ],
   "source": [
    "age = 12\n",
    "\n",
    "if age <4:\n",
    "    price = 0\n",
    "elif age <18:\n",
    "    price = 5\n",
    "elif age < 65:\n",
    "    price = 10\n",
    "else:\n",
    "    price = 5\n",
    "    \n",
    "print(\"Your admission cost is $\" + str(price) + \".\")"
   ]
  },
  {
   "cell_type": "code",
   "execution_count": 47,
   "id": "6f26924f-21a2-4055-8793-7a6a40d4c3bf",
   "metadata": {},
   "outputs": [
    {
     "name": "stdout",
     "output_type": "stream",
     "text": [
      "Your admission cost is $5.\n"
     ]
    }
   ],
   "source": [
    "age = 12\n",
    "\n",
    "if age <4:\n",
    "    price = 0\n",
    "elif age <18:\n",
    "    price = 5\n",
    "elif age < 65:\n",
    "    price = 10\n",
    "elif age >= 65:\n",
    "    price =5\n",
    "\n",
    "print(\"Your admission cost is $\" + str(price) + \".\")"
   ]
  },
  {
   "cell_type": "markdown",
   "id": "47e0c2ea-1bb7-4f25-949c-40aa78bad8af",
   "metadata": {},
   "source": [
    "## Testing Multiple Condition"
   ]
  },
  {
   "cell_type": "code",
   "execution_count": 51,
   "id": "b401dc19-596a-4bf5-93d0-661e72e6bdba",
   "metadata": {},
   "outputs": [
    {
     "name": "stdout",
     "output_type": "stream",
     "text": [
      "Adding Mushroom.\n",
      "Adding extra cheese.\n",
      "\n",
      "Finished making your pizza!\n"
     ]
    }
   ],
   "source": [
    "requested_topping = ['mushroom', 'extra cheese']\n",
    "\n",
    "if 'mushroom' in requested_toppings:\n",
    "    print('Adding Mushroom.')\n",
    "if 'pepperoni' in requested_toppings:\n",
    "    print('Adding Pepperoni.')\n",
    "if 'extra cheese' in requested_topping:\n",
    "    print('Adding extra cheese.')\n",
    "    \n",
    "print(\"\\nFinished making your pizza!\")"
   ]
  },
  {
   "cell_type": "code",
   "execution_count": 53,
   "id": "97ab8ace-8d4c-4a38-8253-d89099618f53",
   "metadata": {},
   "outputs": [
    {
     "name": "stdout",
     "output_type": "stream",
     "text": [
      "You earned five point\n"
     ]
    }
   ],
   "source": [
    "alien_color = ['green', 'yellow', 'red']\n",
    "\n",
    "if 'red' in alien_color:\n",
    "    print('You earned five point')"
   ]
  },
  {
   "cell_type": "code",
   "execution_count": 58,
   "id": "113a8fc6-c21a-40f3-8160-3c026bc65a58",
   "metadata": {},
   "outputs": [
    {
     "name": "stdout",
     "output_type": "stream",
     "text": [
      "You earned 5 point\n",
      "You earned 10 point\n",
      "You earned 10 point\n"
     ]
    }
   ],
   "source": [
    "alien_color = ['green', 'yellow', 'red']\n",
    "\n",
    "for color in alien_color:\n",
    "    if color == 'green':\n",
    "        print(\"You earned 5 point\")\n",
    "    else:\n",
    "        print(\"You earned 10 point\")"
   ]
  },
  {
   "cell_type": "code",
   "execution_count": 60,
   "id": "21504a69-255b-4462-ab64-ca4e33f9ff94",
   "metadata": {},
   "outputs": [
    {
     "name": "stdout",
     "output_type": "stream",
     "text": [
      "You earned 5 point\n",
      "You earned 10 point\n",
      "You earned 15 point\n"
     ]
    }
   ],
   "source": [
    "alien_color = ['green', 'yellow', 'red']\n",
    "\n",
    "for color in alien_color:\n",
    "    if color == 'green':\n",
    "        print(\"You earned 5 point\")\n",
    "    elif color == 'yellow':\n",
    "        print(\"You earned 10 point\")\n",
    "    elif color == 'red':\n",
    "        print(\"You earned 15 point\")"
   ]
  },
  {
   "cell_type": "code",
   "execution_count": 64,
   "id": "3382a551-a1c4-42b6-9d04-a07b7e752057",
   "metadata": {},
   "outputs": [
    {
     "name": "stdout",
     "output_type": "stream",
     "text": [
      "[4]\n",
      "[4, 34]\n",
      "[4, 34, 12]\n",
      "[4, 34, 12, 7]\n",
      "[4, 34, 12, 7, 25]\n",
      "[4, 34, 12, 7, 25, 59]\n",
      "[4, 34, 12, 7, 25, 59, 64]\n",
      "[4, 34, 12, 7, 25, 59, 64, 11]\n",
      "[4, 34, 12, 7, 25, 59, 64, 11, 38]\n",
      "[4, 34, 12, 7, 25, 59, 64, 11, 38, 9]\n",
      "This person is a kid.\n",
      "This person is adult\n",
      "This person is a kid.\n",
      "This person is a kid.\n",
      "This person is adult\n",
      "This person is adult\n",
      "This person is adult\n",
      "This person is a kid.\n",
      "This person is adult\n",
      "This person is a kid.\n"
     ]
    }
   ],
   "source": [
    "from random import randint\n",
    "\n",
    "age_person = []\n",
    "\n",
    "for age in range(0,10):\n",
    "    n = randint(1,65)\n",
    "    age_person.append(n)\n",
    "    print(age_person)\n",
    "\n",
    "for age in age_person:\n",
    "    if age < 2:\n",
    "        print(\"This person is a baby.\")\n",
    "    elif 2 <= age < 4:\n",
    "        print(\"This person is a todler\")\n",
    "    elif 4 <= age < 13:\n",
    "        print(\"This person is a kid.\")\n",
    "    elif 13 <=  age < 20:\n",
    "        print(\"This person is teenager\")\n",
    "    elif 20 <= age < 65:\n",
    "        print(\"This person is adult\")\n",
    "    else:\n",
    "        print(\"This person is elder\")"
   ]
  },
  {
   "cell_type": "markdown",
   "id": "847e5b6c-b35c-4b6f-98e5-968d57a4706d",
   "metadata": {},
   "source": [
    "## Using multiple List"
   ]
  },
  {
   "cell_type": "code",
   "execution_count": 67,
   "id": "b5860f3c-537d-4661-8636-2e7266a798a7",
   "metadata": {},
   "outputs": [
    {
     "name": "stdout",
     "output_type": "stream",
     "text": [
      "Adding mushroom.\n",
      "Sorry, we dont have banana.\n",
      "Sorry, we dont have french fries.\n",
      "Adding extra cheese.\n"
     ]
    }
   ],
   "source": [
    "available_toppings = ['mushroom', 'olives', 'green peppers', 'pepperoni', 'pineaple', 'extra cheese']\n",
    "\n",
    "requested_toppings = ['mushroom', 'banana', 'french fries', 'extra cheese']\n",
    "\n",
    "for requested_topping in requested_toppings:\n",
    "    if requested_topping in available_toppings:\n",
    "        print(\"Adding \" + requested_topping + \".\")\n",
    "    else:\n",
    "        print(\"Sorry, we dont have \" + requested_topping + \".\")"
   ]
  },
  {
   "cell_type": "code",
   "execution_count": 72,
   "id": "8690b7f9-35ad-488c-a1ae-db4f0d5081f0",
   "metadata": {},
   "outputs": [
    {
     "name": "stdout",
     "output_type": "stream",
     "text": [
      "Hello Suryo,thank you for logging in again\n",
      "Hello Fahmi,thank you for logging in again\n",
      "Hello Alvin,thank you for logging in again\n",
      "Hello Reymon,thank you for logging in again\n",
      "Hello Indra,thank you for logging in again\n",
      "Hello Naufal,thank you for logging in again\n",
      "Hello Admin,would you like to see status report?\n"
     ]
    }
   ],
   "source": [
    "list_user = ['suryo', 'fahmi', 'alvin', 'reymon', 'indra', 'naufal', 'admin']\n",
    "\n",
    "for user in list_user:\n",
    "    if user == 'admin':\n",
    "        print(\"Hello \" + user.title() + \",would you like to see status report?\")\n",
    "    else:\n",
    "        print(\"Hello \" + user.title() + \",thank you for logging in again\")"
   ]
  },
  {
   "cell_type": "code",
   "execution_count": 76,
   "id": "7fd11197-bb49-4137-8b2b-7faa606ca41b",
   "metadata": {},
   "outputs": [],
   "source": [
    "list_user = []\n",
    "\n",
    "for user in list_user:\n",
    "    if user == 'admin':\n",
    "        print(\"Hello \" + user.title() + \",would you like to see status report?\")\n",
    "    elif user == 'suryo':\n",
    "        print(\"Hello \" + user.title() + \",thank you for logging in again\")\n",
    "    else:\n",
    "        print(\"We need some user!\")"
   ]
  },
  {
   "cell_type": "code",
   "execution_count": 132,
   "id": "0f2a16df-a9a3-4069-a33f-5bd6869d87c9",
   "metadata": {},
   "outputs": [],
   "source": [
    "list_users = ['suryo', 'fahmi', 'alvin', 'reymon', 'indra', 'naufal', 'admin']"
   ]
  },
  {
   "cell_type": "code",
   "execution_count": 133,
   "id": "e6f823cc-2073-4e8a-b953-2957495aec2e",
   "metadata": {},
   "outputs": [],
   "source": [
    "new_users = ['alvin', 'laga', 'ken', 'stephen', 'risma', 'suryo', 'fahmi']"
   ]
  },
  {
   "cell_type": "code",
   "execution_count": 136,
   "id": "64345080-a945-48a0-b5c4-d1f398af529f",
   "metadata": {},
   "outputs": [
    {
     "name": "stdout",
     "output_type": "stream",
     "text": [
      "The username is available\n",
      "The username is available\n",
      "The username is already use!\n",
      "The username is available\n",
      "The username is available\n",
      "The username is available\n",
      "The username is available\n",
      "The username is available\n",
      "The username is available\n",
      "The username is available\n",
      "The username is available\n",
      "The username is available\n",
      "The username is available\n",
      "The username is available\n",
      "The username is available\n",
      "The username is available\n",
      "The username is available\n",
      "The username is available\n",
      "The username is available\n",
      "The username is available\n",
      "The username is available\n",
      "The username is available\n",
      "The username is available\n",
      "The username is available\n",
      "The username is available\n",
      "The username is available\n",
      "The username is available\n",
      "The username is available\n",
      "The username is available\n",
      "The username is available\n",
      "The username is available\n",
      "The username is already use!\n",
      "The username is available\n",
      "The username is already use!\n"
     ]
    }
   ],
   "source": [
    "for new_user in new_users:\n",
    "    for list_user in list_users:\n",
    "        if new_user == list_user:\n",
    "            print(\"The username is already use!\")\n",
    "            break\n",
    "        else:\n",
    "            print(\"The username is available\")"
   ]
  },
  {
   "cell_type": "code",
   "execution_count": null,
   "id": "d1607d79-ce74-499e-acd2-8bdb7db00272",
   "metadata": {},
   "outputs": [],
   "source": []
  }
 ],
 "metadata": {
  "kernelspec": {
   "display_name": "Python 3",
   "language": "python",
   "name": "python3"
  },
  "language_info": {
   "codemirror_mode": {
    "name": "ipython",
    "version": 3
   },
   "file_extension": ".py",
   "mimetype": "text/x-python",
   "name": "python",
   "nbconvert_exporter": "python",
   "pygments_lexer": "ipython3",
   "version": "3.9.1"
  }
 },
 "nbformat": 4,
 "nbformat_minor": 5
}
