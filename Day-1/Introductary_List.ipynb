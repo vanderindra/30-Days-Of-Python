{
 "cells": [
  {
   "cell_type": "code",
   "execution_count": 1,
   "id": "89b7b8bf-39d9-4b19-be18-b46f7ff25341",
   "metadata": {},
   "outputs": [],
   "source": [
    "import pandas as pd"
   ]
  },
  {
   "cell_type": "markdown",
   "id": "c17486c3-8718-44d8-b5a1-65e97c838157",
   "metadata": {},
   "source": [
    "# Intoduction\n",
    "# Day 1 - 30 Days Of Python Chalange\n",
    "\n"
   ]
  },
  {
   "cell_type": "markdown",
   "id": "e7776042-4966-4630-8c47-4073bc307805",
   "metadata": {},
   "source": [
    "# Penjumlahan"
   ]
  },
  {
   "cell_type": "code",
   "execution_count": 13,
   "id": "3952ffe2-3424-4725-a6df-27cafed4ed4a",
   "metadata": {},
   "outputs": [
    {
     "name": "stdout",
     "output_type": "stream",
     "text": [
      "5\n"
     ]
    }
   ],
   "source": [
    "print(2 + 3)  #penjumlahan"
   ]
  },
  {
   "cell_type": "markdown",
   "id": "84f5900f-8ebd-43c7-933b-d40af9cc0356",
   "metadata": {},
   "source": [
    "# Pengurangan"
   ]
  },
  {
   "cell_type": "code",
   "execution_count": 14,
   "id": "380e8e02-1739-4c9a-a3bb-61f9fb3b2e80",
   "metadata": {},
   "outputs": [
    {
     "name": "stdout",
     "output_type": "stream",
     "text": [
      "2\n"
     ]
    }
   ],
   "source": [
    "print(3 - 1)  #pengurangan"
   ]
  },
  {
   "cell_type": "markdown",
   "id": "a3badd63-eae8-425e-9133-091611cf7662",
   "metadata": {},
   "source": [
    "# Perkalian"
   ]
  },
  {
   "cell_type": "code",
   "execution_count": 15,
   "id": "d4ff9bf5-577b-46b4-81d0-69bbbfd53196",
   "metadata": {},
   "outputs": [
    {
     "name": "stdout",
     "output_type": "stream",
     "text": [
      "6\n"
     ]
    }
   ],
   "source": [
    "print(2 * 3)  # Perkalian"
   ]
  },
  {
   "cell_type": "markdown",
   "id": "c282bf06-5cec-4ed0-afc5-44bddcb40925",
   "metadata": {},
   "source": [
    "# Pembagian"
   ]
  },
  {
   "cell_type": "code",
   "execution_count": 16,
   "id": "587b6afe-cfd8-41ab-a3a4-7fcbb3cfe085",
   "metadata": {},
   "outputs": [
    {
     "name": "stdout",
     "output_type": "stream",
     "text": [
      "0.6666666666666666\n"
     ]
    }
   ],
   "source": [
    "print(2 / 3) #pembagian"
   ]
  },
  {
   "cell_type": "markdown",
   "id": "bef6cda1-8277-4b4a-bea0-47e769b08d05",
   "metadata": {},
   "source": [
    "# Exponential"
   ]
  },
  {
   "cell_type": "code",
   "execution_count": 17,
   "id": "aa67be29-8718-40a8-9355-3380423c1786",
   "metadata": {},
   "outputs": [
    {
     "name": "stdout",
     "output_type": "stream",
     "text": [
      "9\n"
     ]
    }
   ],
   "source": [
    "print(3 ** 2) #pangkat"
   ]
  },
  {
   "cell_type": "markdown",
   "id": "e5cbaa0b-aaa3-4347-97d4-b11c32b65dcb",
   "metadata": {},
   "source": [
    "# Modulus"
   ]
  },
  {
   "cell_type": "code",
   "execution_count": 18,
   "id": "0381ad98-2d1c-41ff-8856-f0351bfe2539",
   "metadata": {},
   "outputs": [
    {
     "name": "stdout",
     "output_type": "stream",
     "text": [
      "9\n"
     ]
    }
   ],
   "source": [
    "print(3 ** 2) #pangkat"
   ]
  },
  {
   "cell_type": "markdown",
   "id": "146c1c1b-2a4c-41ad-b4f5-45a1aa22b565",
   "metadata": {},
   "source": [
    "# Floor Division Operator"
   ]
  },
  {
   "cell_type": "code",
   "execution_count": 19,
   "id": "7b190277-4ca2-4f0d-bad8-34c2105eafc3",
   "metadata": {},
   "outputs": [
    {
     "name": "stdout",
     "output_type": "stream",
     "text": [
      "1\n",
      "1\n"
     ]
    }
   ],
   "source": [
    "print(3 % 2) #modulus\n",
    "print(3 // 2) #Floor division operator"
   ]
  },
  {
   "cell_type": "markdown",
   "id": "c8a81096-7c79-4cc4-b579-045bd2f2d9f0",
   "metadata": {},
   "source": [
    "# Checking Data Types"
   ]
  },
  {
   "cell_type": "code",
   "execution_count": 3,
   "id": "04af5611-7265-4204-a0de-b2ac1425a0db",
   "metadata": {},
   "outputs": [
    {
     "name": "stdout",
     "output_type": "stream",
     "text": [
      "<class 'int'>\n"
     ]
    }
   ],
   "source": [
    "print(type(10)) #integer"
   ]
  },
  {
   "cell_type": "code",
   "execution_count": 4,
   "id": "6826c7e7-9c4e-492c-a37d-b07745740560",
   "metadata": {},
   "outputs": [
    {
     "name": "stdout",
     "output_type": "stream",
     "text": [
      "<class 'float'>\n"
     ]
    }
   ],
   "source": [
    "print(type(3.14))"
   ]
  },
  {
   "cell_type": "code",
   "execution_count": 5,
   "id": "4a2a3ef9-ae22-467a-a247-e778a70cce3a",
   "metadata": {},
   "outputs": [
    {
     "name": "stdout",
     "output_type": "stream",
     "text": [
      "<class 'complex'>\n"
     ]
    }
   ],
   "source": [
    "print(type(1 + 3j))"
   ]
  },
  {
   "cell_type": "code",
   "execution_count": 6,
   "id": "f11e9898-3afa-49f3-923f-764f8b130807",
   "metadata": {},
   "outputs": [
    {
     "name": "stdout",
     "output_type": "stream",
     "text": [
      "<class 'str'>\n"
     ]
    }
   ],
   "source": [
    "print(type('Indra'))"
   ]
  },
  {
   "cell_type": "code",
   "execution_count": 7,
   "id": "dfc541b1-cf7b-4b63-8dbd-718e2da5fcd9",
   "metadata": {},
   "outputs": [
    {
     "name": "stdout",
     "output_type": "stream",
     "text": [
      "<class 'list'>\n"
     ]
    }
   ],
   "source": [
    "print(type([1,2,3]))"
   ]
  },
  {
   "cell_type": "code",
   "execution_count": 8,
   "id": "29fd52a6-2d57-45cb-afe4-7ce097a05673",
   "metadata": {},
   "outputs": [
    {
     "name": "stdout",
     "output_type": "stream",
     "text": [
      "<class 'dict'>\n"
     ]
    }
   ],
   "source": [
    "print(type({'name':\"Indra\"}))"
   ]
  },
  {
   "cell_type": "code",
   "execution_count": 9,
   "id": "768da387-cb3f-4e3b-b705-dae3194241be",
   "metadata": {},
   "outputs": [
    {
     "name": "stdout",
     "output_type": "stream",
     "text": [
      "<class 'set'>\n"
     ]
    }
   ],
   "source": [
    "print(type({9.8, 3.14, 2.7}))"
   ]
  },
  {
   "cell_type": "code",
   "execution_count": 11,
   "id": "70dd65f9-d5f1-4f80-b808-8719ee218630",
   "metadata": {},
   "outputs": [
    {
     "name": "stdout",
     "output_type": "stream",
     "text": [
      "<class 'tuple'>\n"
     ]
    }
   ],
   "source": [
    "print(type((9.8, 3.14, 2.7)))"
   ]
  },
  {
   "cell_type": "markdown",
   "id": "246eda4d-26e4-451b-866f-f82d091ad858",
   "metadata": {},
   "source": [
    "# Intoducing List"
   ]
  },
  {
   "cell_type": "markdown",
   "id": "2ed76764-fff7-4137-ba9b-5b49468e0f99",
   "metadata": {},
   "source": [
    "## A list is collection of items in particular order. You can make a list that includes the letters of the alphabet, the digits 0-9, or the names of all the people in your family\n",
    "## In Python square brackets ([] indicates a lits, and individual elements in the list seperated by commas"
   ]
  },
  {
   "cell_type": "code",
   "execution_count": 20,
   "id": "08f26353-3bf5-4ab5-8167-6f12d240dfe5",
   "metadata": {},
   "outputs": [
    {
     "name": "stdout",
     "output_type": "stream",
     "text": [
      "['trek', 'cannondale', 'redline', 'specialized']\n"
     ]
    }
   ],
   "source": [
    "bicycles = ['trek', 'cannondale', 'redline', 'specialized']\n",
    "print(bicycles)"
   ]
  },
  {
   "cell_type": "markdown",
   "id": "21950dfa-d129-4a54-96f7-fa3f0d96d617",
   "metadata": {},
   "source": [
    "## Accesing ELements in a list"
   ]
  },
  {
   "cell_type": "code",
   "execution_count": 21,
   "id": "f02a70a0-326d-4c45-bb91-b3e6291425c5",
   "metadata": {},
   "outputs": [
    {
     "name": "stdout",
     "output_type": "stream",
     "text": [
      "trek\n"
     ]
    }
   ],
   "source": [
    "print(bicycles[0])"
   ]
  },
  {
   "cell_type": "code",
   "execution_count": 25,
   "id": "302183a0-583d-43a6-af35-1693ad7ae200",
   "metadata": {},
   "outputs": [
    {
     "name": "stdout",
     "output_type": "stream",
     "text": [
      "Trek\n"
     ]
    }
   ],
   "source": [
    "print(bicycles[0].title())"
   ]
  },
  {
   "cell_type": "markdown",
   "id": "d59d53da-4c2f-4542-80c2-d2a7c13c63cf",
   "metadata": {},
   "source": [
    "## Index Positions Start at 0, Not 1"
   ]
  },
  {
   "cell_type": "code",
   "execution_count": 26,
   "id": "f5928122-c90b-49f8-9fa1-ab67b82c5da2",
   "metadata": {},
   "outputs": [
    {
     "name": "stdout",
     "output_type": "stream",
     "text": [
      "cannondale\n",
      "redline\n"
     ]
    }
   ],
   "source": [
    "print(bicycles[1])\n",
    "print(bicycles[2])"
   ]
  },
  {
   "cell_type": "code",
   "execution_count": 27,
   "id": "2c46a6b4-724c-44f8-9b11-5f8b1875f8d5",
   "metadata": {},
   "outputs": [
    {
     "name": "stdout",
     "output_type": "stream",
     "text": [
      "specialized\n"
     ]
    }
   ],
   "source": [
    "print(bicycles[-1])"
   ]
  },
  {
   "cell_type": "markdown",
   "id": "d8d0a529-2a19-40da-890f-3489656a7575",
   "metadata": {},
   "source": [
    "## Using Individual Values from a list"
   ]
  },
  {
   "cell_type": "code",
   "execution_count": 28,
   "id": "15e42b2b-e0e1-4bad-b301-0066b12bbc21",
   "metadata": {},
   "outputs": [],
   "source": [
    "message = \"My First Bicycles was a \" + bicycles[0].title() + \".\""
   ]
  },
  {
   "cell_type": "code",
   "execution_count": 29,
   "id": "231843b6-b150-4f4f-af2b-7d6ab800ae0c",
   "metadata": {},
   "outputs": [
    {
     "name": "stdout",
     "output_type": "stream",
     "text": [
      "My First Bicycles was a Trek.\n"
     ]
    }
   ],
   "source": [
    "print(message)"
   ]
  },
  {
   "cell_type": "code",
   "execution_count": 30,
   "id": "7a02a697-a82f-446f-9364-1ff6f47b8582",
   "metadata": {},
   "outputs": [
    {
     "data": {
      "text/plain": [
       "'My First Bicycles was a Trek.'"
      ]
     },
     "execution_count": 30,
     "metadata": {},
     "output_type": "execute_result"
    }
   ],
   "source": [
    "message"
   ]
  },
  {
   "cell_type": "code",
   "execution_count": 31,
   "id": "ca0729cd-2b80-4a4e-b904-d837c62703d4",
   "metadata": {},
   "outputs": [
    {
     "name": "stdout",
     "output_type": "stream",
     "text": [
      "Fahmi\n",
      "Tian\n",
      "Ipang\n"
     ]
    }
   ],
   "source": [
    "Friends = ['Fahmi', 'Tian', 'Ipang']\n",
    "print(Friends[0])\n",
    "print(Friends[1])\n",
    "print(Friends[2])"
   ]
  },
  {
   "cell_type": "code",
   "execution_count": 32,
   "id": "2bfafaf9-3a02-47f8-acd4-c53f9d3e4820",
   "metadata": {},
   "outputs": [
    {
     "name": "stdout",
     "output_type": "stream",
     "text": [
      "Halo Fahmi apa kabar?\n"
     ]
    }
   ],
   "source": [
    "greetings = \"Halo \" + Friends[0] + \" apa kabar?\"\n",
    "print(greetings)"
   ]
  },
  {
   "cell_type": "code",
   "execution_count": 34,
   "id": "20a6bc77-48f0-45e6-8798-ec3f5bdf3c53",
   "metadata": {},
   "outputs": [
    {
     "name": "stdout",
     "output_type": "stream",
     "text": [
      "Aku paling suka pake kendaraan Starlet loh!\n"
     ]
    }
   ],
   "source": [
    "kendaraan = ['Starlet', 'Kijang', 'Vega R', 'Vega ZR']\n",
    "kalimat = \"Aku paling suka pake kendaraan \" + kendaraan[0] + \" loh!\"\n",
    "print(kalimat)"
   ]
  },
  {
   "cell_type": "markdown",
   "id": "6803b735-7629-443f-a0fb-bb306fdfa271",
   "metadata": {},
   "source": [
    "# Changing, Adding, and Removing Elements"
   ]
  },
  {
   "cell_type": "markdown",
   "id": "1e3d41c0-44fa-4384-8209-ba7134c1e6d9",
   "metadata": {},
   "source": [
    "## Modifiying Elements in a List"
   ]
  },
  {
   "cell_type": "code",
   "execution_count": 35,
   "id": "64c140cd-2012-4d4e-8c52-8db380f71fb7",
   "metadata": {},
   "outputs": [
    {
     "name": "stdout",
     "output_type": "stream",
     "text": [
      "['honda', 'yamaha', 'suzuki']\n"
     ]
    }
   ],
   "source": [
    "motorcycles = ['honda', 'yamaha', 'suzuki']\n",
    "print(motorcycles)"
   ]
  },
  {
   "cell_type": "code",
   "execution_count": 36,
   "id": "41aef10d-d021-44f9-bc4b-2eed876f0767",
   "metadata": {},
   "outputs": [
    {
     "name": "stdout",
     "output_type": "stream",
     "text": [
      "['ducati', 'yamaha', 'suzuki']\n"
     ]
    }
   ],
   "source": [
    "motorcycles[0] = 'ducati'\n",
    "print(motorcycles)"
   ]
  },
  {
   "cell_type": "markdown",
   "id": "ac3db1d9-751b-4c34-a6fb-372e9a666d99",
   "metadata": {},
   "source": [
    "## Adding Elements to a List"
   ]
  },
  {
   "cell_type": "markdown",
   "id": "adba03af-d42d-47aa-91a1-4031cc8fb063",
   "metadata": {},
   "source": [
    "## Appending Elements to the End of a List"
   ]
  },
  {
   "cell_type": "code",
   "execution_count": 37,
   "id": "577ea0ec-afee-43e9-9782-363b05ffaa47",
   "metadata": {},
   "outputs": [
    {
     "name": "stdout",
     "output_type": "stream",
     "text": [
      "['honda', 'yamaha', 'suzuki']\n"
     ]
    }
   ],
   "source": [
    "motorcycles = ['honda', 'yamaha', 'suzuki']\n",
    "print(motorcycles)"
   ]
  },
  {
   "cell_type": "code",
   "execution_count": 38,
   "id": "a11b60be-a5e5-429c-adb8-405fa1081379",
   "metadata": {},
   "outputs": [
    {
     "name": "stdout",
     "output_type": "stream",
     "text": [
      "['honda', 'yamaha', 'suzuki', 'ducati']\n"
     ]
    }
   ],
   "source": [
    "motorcycles.append('ducati')\n",
    "print(motorcycles)"
   ]
  },
  {
   "cell_type": "markdown",
   "id": "9a29137a-7754-405b-beb6-d81aa4c3292c",
   "metadata": {},
   "source": [
    "## Dynamic"
   ]
  },
  {
   "cell_type": "code",
   "execution_count": 39,
   "id": "878a3311-5f65-46d9-9df3-65e5fdbce785",
   "metadata": {},
   "outputs": [],
   "source": [
    "motorcycles2 = []\n",
    "motorcycles2.append('honda')\n",
    "motorcycles2.append('yamaha')\n",
    "motorcycles2.append('suzuki')"
   ]
  },
  {
   "cell_type": "code",
   "execution_count": 40,
   "id": "d187b97a-cb89-4ec9-8bb4-d00c44d01a65",
   "metadata": {},
   "outputs": [
    {
     "data": {
      "text/plain": [
       "['honda', 'yamaha', 'suzuki']"
      ]
     },
     "execution_count": 40,
     "metadata": {},
     "output_type": "execute_result"
    }
   ],
   "source": [
    "motorcycles2"
   ]
  },
  {
   "cell_type": "markdown",
   "id": "44b55d99-22c9-4902-85ab-93ccd21bb6b1",
   "metadata": {},
   "source": [
    "## Inserting Elements into a List"
   ]
  },
  {
   "cell_type": "code",
   "execution_count": 41,
   "id": "f222a7af-c3a6-4d67-9628-97df065076a6",
   "metadata": {},
   "outputs": [],
   "source": [
    "motorcycles2.insert(0, 'ducati')"
   ]
  },
  {
   "cell_type": "code",
   "execution_count": 42,
   "id": "ebad571d-4016-4b08-a241-8c14ab01fb2f",
   "metadata": {},
   "outputs": [
    {
     "name": "stdout",
     "output_type": "stream",
     "text": [
      "['ducati', 'honda', 'yamaha', 'suzuki']\n"
     ]
    }
   ],
   "source": [
    "print(motorcycles2)"
   ]
  },
  {
   "cell_type": "markdown",
   "id": "57b6912f-9c59-4412-811e-fe200e70bfff",
   "metadata": {},
   "source": [
    "## Removing an Item Using del Statement"
   ]
  },
  {
   "cell_type": "code",
   "execution_count": 43,
   "id": "2f4702ab-940c-4a76-94df-72ead501bc9a",
   "metadata": {},
   "outputs": [
    {
     "data": {
      "text/plain": [
       "['honda', 'yamaha', 'suzuki', 'ducati']"
      ]
     },
     "execution_count": 43,
     "metadata": {},
     "output_type": "execute_result"
    }
   ],
   "source": [
    "motorcycles"
   ]
  },
  {
   "cell_type": "code",
   "execution_count": 44,
   "id": "122b22b6-4430-470d-974e-986505cef2f1",
   "metadata": {},
   "outputs": [
    {
     "name": "stdout",
     "output_type": "stream",
     "text": [
      "['yamaha', 'suzuki', 'ducati']\n"
     ]
    }
   ],
   "source": [
    "del motorcycles[0]\n",
    "print(motorcycles)"
   ]
  },
  {
   "cell_type": "code",
   "execution_count": 46,
   "id": "3eba9bed-e026-47d9-b3b1-bbaabed52ff5",
   "metadata": {},
   "outputs": [],
   "source": [
    "del motorcycles[1]"
   ]
  },
  {
   "cell_type": "code",
   "execution_count": 47,
   "id": "9cb4d4a2-800d-446a-b741-ef6667c8e436",
   "metadata": {},
   "outputs": [
    {
     "name": "stdout",
     "output_type": "stream",
     "text": [
      "['yamaha', 'ducati']\n"
     ]
    }
   ],
   "source": [
    "print(motorcycles)"
   ]
  },
  {
   "cell_type": "markdown",
   "id": "8d352ca1-c97a-45be-adc3-5e28d6abf7b8",
   "metadata": {},
   "source": [
    "## Removing an Item Using pop() method"
   ]
  },
  {
   "cell_type": "code",
   "execution_count": 48,
   "id": "e7484702-4a10-404d-ba83-78cd314dce6b",
   "metadata": {},
   "outputs": [
    {
     "name": "stdout",
     "output_type": "stream",
     "text": [
      "['honda', 'yamaha', 'suzuki']\n"
     ]
    }
   ],
   "source": [
    "motorcycles = ['honda', 'yamaha', 'suzuki']\n",
    "print(motorcycles)"
   ]
  },
  {
   "cell_type": "code",
   "execution_count": 49,
   "id": "1d78fffe-4dcc-4e26-b504-1f2b85b6526f",
   "metadata": {},
   "outputs": [
    {
     "name": "stdout",
     "output_type": "stream",
     "text": [
      "['honda', 'yamaha']\n",
      "suzuki\n"
     ]
    }
   ],
   "source": [
    "popped_motorcycles = motorcycles.pop()\n",
    "print(motorcycles)\n",
    "print(popped_motorcycles)"
   ]
  },
  {
   "cell_type": "code",
   "execution_count": 50,
   "id": "54f8f12f-2a10-4e9d-b1d4-426d8dac0217",
   "metadata": {},
   "outputs": [
    {
     "name": "stdout",
     "output_type": "stream",
     "text": [
      "The last motorcycle I owned was a Suzuki.\n"
     ]
    }
   ],
   "source": [
    "motorcycles = ['honda', 'yamaha', 'suzuki']\n",
    "\n",
    "last_owned = motorcycles.pop()\n",
    "print(\"The last motorcycle I owned was a \" + last_owned.title() + \".\")"
   ]
  },
  {
   "cell_type": "markdown",
   "id": "818384ff-3efd-4887-a965-c6d94e279d4e",
   "metadata": {},
   "source": [
    "## Popping Items from any Positions in a List"
   ]
  },
  {
   "cell_type": "code",
   "execution_count": 55,
   "id": "6bf21edc-753a-486d-9fd8-60d484e8fc9f",
   "metadata": {},
   "outputs": [
    {
     "name": "stdout",
     "output_type": "stream",
     "text": [
      "['honda', 'yamaha', 'suzuki']\n"
     ]
    }
   ],
   "source": [
    "motorcycles = ['honda', 'yamaha', 'suzuki']\n",
    "print(motorcycles)"
   ]
  },
  {
   "cell_type": "code",
   "execution_count": 56,
   "id": "26fb3f7a-a4d6-477d-84af-21ada877e3c4",
   "metadata": {},
   "outputs": [
    {
     "name": "stdout",
     "output_type": "stream",
     "text": [
      "The First Motorcycle I owned was a Honda.\n"
     ]
    }
   ],
   "source": [
    "first_owned = motorcycles.pop(0)\n",
    "print(\"The First Motorcycle I owned was a \" + first_owned.title() + \".\")"
   ]
  },
  {
   "cell_type": "markdown",
   "id": "586f6860-da11-4719-8f3b-e0357decc30a",
   "metadata": {},
   "source": [
    "## Removing Item by Value"
   ]
  },
  {
   "cell_type": "code",
   "execution_count": 57,
   "id": "a747b2e0-166a-4d12-b9ad-b0fd65dd210d",
   "metadata": {},
   "outputs": [
    {
     "name": "stdout",
     "output_type": "stream",
     "text": [
      "['ducati', 'honda', 'yamaha', 'suzuki']\n"
     ]
    }
   ],
   "source": [
    "print(motorcycles2)"
   ]
  },
  {
   "cell_type": "code",
   "execution_count": 58,
   "id": "729ef683-8117-4c6c-a376-64d26a83845f",
   "metadata": {},
   "outputs": [
    {
     "name": "stdout",
     "output_type": "stream",
     "text": [
      "['honda', 'yamaha', 'suzuki']\n"
     ]
    }
   ],
   "source": [
    "motorcycles2.remove('ducati')\n",
    "print(motorcycles2)"
   ]
  },
  {
   "cell_type": "code",
   "execution_count": 60,
   "id": "29b16c15-8a71-4093-a51e-4a10577ba3fd",
   "metadata": {},
   "outputs": [
    {
     "name": "stdout",
     "output_type": "stream",
     "text": [
      "['honda', 'yamaha', 'suzuki', 'ducati']\n",
      "['honda', 'yamaha', 'suzuki']\n",
      "\n",
      "A Ducati is too expensive for me.\n"
     ]
    }
   ],
   "source": [
    "motorcycles2 = ['honda', 'yamaha', 'suzuki', 'ducati']\n",
    "print(motorcycles2)\n",
    "too_expensive = 'ducati'\n",
    "motorcycles2.remove(too_expensive)\n",
    "print(motorcycles2)\n",
    "print(\"\\nA \" + too_expensive.title() + \" is too expensive for me.\")"
   ]
  },
  {
   "cell_type": "markdown",
   "id": "0f5a6f02-bf76-4594-b0a2-119543324792",
   "metadata": {},
   "source": [
    "## NOTE:\n",
    "## The remove() methods deletes only the first occurence of the value you specify. If theres a possibly the value appears more than once in the list, you'll need use loop to determine if all occurance of the value has been removed."
   ]
  },
  {
   "cell_type": "code",
   "execution_count": 61,
   "id": "8d11ffd9-38f2-444d-8d76-0b0202715490",
   "metadata": {},
   "outputs": [],
   "source": [
    "guest_list = ['fahmi', 'tian', 'annisa', 'johan', 'juniar']"
   ]
  },
  {
   "cell_type": "code",
   "execution_count": 62,
   "id": "4cab820f-4559-4f77-ba46-41dd73776836",
   "metadata": {},
   "outputs": [
    {
     "name": "stdout",
     "output_type": "stream",
     "text": [
      "['fahmi', 'tian', 'annisa', 'johan', 'juniar']\n"
     ]
    }
   ],
   "source": [
    "print(guest_list)"
   ]
  },
  {
   "cell_type": "code",
   "execution_count": 63,
   "id": "a6547d0f-5619-4104-94f9-9482e89abe7c",
   "metadata": {},
   "outputs": [
    {
     "name": "stdout",
     "output_type": "stream",
     "text": [
      "['fahmi', 'tian', 'annisa', 'johan']\n"
     ]
    }
   ],
   "source": [
    "guest_list.pop()\n",
    "print(guest_list)"
   ]
  },
  {
   "cell_type": "code",
   "execution_count": 64,
   "id": "cd2b969e-ff9b-4a3b-acb6-547fe48aedb7",
   "metadata": {},
   "outputs": [],
   "source": [
    "guest_list.insert(0, 'alvin')\n",
    "guest_list.insert(2, 'rahan')\n",
    "guest_list.append('suryo')"
   ]
  },
  {
   "cell_type": "code",
   "execution_count": 65,
   "id": "607a397f-351f-423b-a477-17da1c1e50de",
   "metadata": {},
   "outputs": [
    {
     "name": "stdout",
     "output_type": "stream",
     "text": [
      "['alvin', 'fahmi', 'rahan', 'tian', 'annisa', 'johan', 'suryo']\n"
     ]
    }
   ],
   "source": [
    "print(guest_list)"
   ]
  },
  {
   "cell_type": "markdown",
   "id": "83b68a25-f724-4eae-a7e4-6ae72a953733",
   "metadata": {},
   "source": [
    "# Orginizing a List"
   ]
  },
  {
   "cell_type": "code",
   "execution_count": 79,
   "id": "39b341c7-35ee-4c1e-91ee-ac479d730413",
   "metadata": {},
   "outputs": [
    {
     "name": "stdout",
     "output_type": "stream",
     "text": [
      "['audi', 'bmw', 'subaru', 'toyota']\n"
     ]
    }
   ],
   "source": [
    "cars = ['bmw', 'audi', 'toyota', 'subaru']\n",
    "cars.sort()\n",
    "print(cars)"
   ]
  },
  {
   "cell_type": "code",
   "execution_count": 80,
   "id": "9a2233c8-6719-4fd0-8b7d-9f56dfeb2db4",
   "metadata": {},
   "outputs": [
    {
     "name": "stdout",
     "output_type": "stream",
     "text": [
      "['audi', 'bmw', 'subaru', 'toyota']\n",
      "['toyota', 'subaru', 'bmw', 'audi']\n"
     ]
    }
   ],
   "source": [
    "print(cars)\n",
    "cars.sort(reverse =True)\n",
    "print(cars)"
   ]
  },
  {
   "cell_type": "markdown",
   "id": "0dad5793-eb5f-4f4f-a42d-77f51b56591c",
   "metadata": {},
   "source": [
    "## Sorting a List Temporary with the sorted() Function"
   ]
  },
  {
   "cell_type": "code",
   "execution_count": 81,
   "id": "93d13d0b-052c-476a-9a99-a7f76824f458",
   "metadata": {},
   "outputs": [],
   "source": [
    "cars = ['bmw', 'audi', 'toyota', 'subaru']"
   ]
  },
  {
   "cell_type": "code",
   "execution_count": 82,
   "id": "2de68979-e590-4e07-8d53-f1c5150b1b0e",
   "metadata": {},
   "outputs": [
    {
     "name": "stdout",
     "output_type": "stream",
     "text": [
      "Here is the original list:\n",
      "['bmw', 'audi', 'toyota', 'subaru']\n"
     ]
    }
   ],
   "source": [
    "print('Here is the original list:')\n",
    "print(cars)"
   ]
  },
  {
   "cell_type": "code",
   "execution_count": 83,
   "id": "bb25525e-d5b8-4d55-9633-f953db03a276",
   "metadata": {},
   "outputs": [
    {
     "name": "stdout",
     "output_type": "stream",
     "text": [
      "\n",
      "Here is the sorted list:\n",
      "['audi', 'bmw', 'subaru', 'toyota']\n"
     ]
    }
   ],
   "source": [
    "print(\"\\nHere is the sorted list:\")\n",
    "print(sorted(cars))"
   ]
  },
  {
   "cell_type": "code",
   "execution_count": 84,
   "id": "832f6d1e-df4b-486d-a444-19fb6aaf4aba",
   "metadata": {},
   "outputs": [
    {
     "name": "stdout",
     "output_type": "stream",
     "text": [
      "\n",
      "Here is the original list again:\n",
      "['bmw', 'audi', 'toyota', 'subaru']\n"
     ]
    }
   ],
   "source": [
    "print(\"\\nHere is the original list again:\")\n",
    "print(cars)"
   ]
  },
  {
   "cell_type": "markdown",
   "id": "180811cf-e711-4ae1-b095-cef9a20ab1f4",
   "metadata": {},
   "source": [
    "## Printing a List in Revese Order"
   ]
  },
  {
   "cell_type": "code",
   "execution_count": 85,
   "id": "da9661ae-b23f-45eb-83f5-1022d86a3bf6",
   "metadata": {},
   "outputs": [
    {
     "name": "stdout",
     "output_type": "stream",
     "text": [
      "['bmw', 'audi', 'toyota', 'subaru']\n"
     ]
    }
   ],
   "source": [
    "print(cars)"
   ]
  },
  {
   "cell_type": "code",
   "execution_count": 86,
   "id": "6a3f8d80-a91c-4d70-88d7-251b44380329",
   "metadata": {},
   "outputs": [
    {
     "name": "stdout",
     "output_type": "stream",
     "text": [
      "['subaru', 'toyota', 'audi', 'bmw']\n"
     ]
    }
   ],
   "source": [
    "cars.reverse()\n",
    "print(cars)"
   ]
  },
  {
   "cell_type": "markdown",
   "id": "76bac2c3-8654-45e6-8e8f-3830fd4c3425",
   "metadata": {},
   "source": [
    "## Finding the Lenght of a List"
   ]
  },
  {
   "cell_type": "code",
   "execution_count": 88,
   "id": "96b0094d-f5e4-4943-9ab6-b01c7232150d",
   "metadata": {},
   "outputs": [],
   "source": [
    "cars = ['bmw', 'audi', 'toyota', 'subaru']"
   ]
  },
  {
   "cell_type": "code",
   "execution_count": 89,
   "id": "d9037c15-bf86-48b4-b1a5-cc12f127a816",
   "metadata": {},
   "outputs": [
    {
     "data": {
      "text/plain": [
       "4"
      ]
     },
     "execution_count": 89,
     "metadata": {},
     "output_type": "execute_result"
    }
   ],
   "source": [
    "len(cars)"
   ]
  },
  {
   "cell_type": "code",
   "execution_count": 90,
   "id": "c23f3efc-7454-4c69-8580-b848c00aeb2a",
   "metadata": {},
   "outputs": [],
   "source": [
    "locations = ['jakarta', 'bandung', 'jogja', 'surabaya']"
   ]
  },
  {
   "cell_type": "code",
   "execution_count": 91,
   "id": "9a3e1088-dfb3-48d0-a1e8-1a12bd59a3c2",
   "metadata": {},
   "outputs": [
    {
     "name": "stdout",
     "output_type": "stream",
     "text": [
      "['jakarta', 'bandung', 'jogja', 'surabaya']\n",
      "['bandung', 'jakarta', 'jogja', 'surabaya']\n"
     ]
    }
   ],
   "source": [
    "print(locations)\n",
    "print(sorted(locations))"
   ]
  },
  {
   "cell_type": "code",
   "execution_count": 95,
   "id": "60f3cea4-c1a3-4e1e-9c25-0a8c097f7f2a",
   "metadata": {},
   "outputs": [
    {
     "name": "stdout",
     "output_type": "stream",
     "text": [
      "['surabaya', 'jogja', 'jakarta', 'bandung']\n"
     ]
    }
   ],
   "source": [
    "print(sorted(locations, reverse = True))"
   ]
  },
  {
   "cell_type": "code",
   "execution_count": 96,
   "id": "1898197c-a080-4ee7-977e-d168eadb18b3",
   "metadata": {},
   "outputs": [],
   "source": [
    "locations.reverse()"
   ]
  },
  {
   "cell_type": "code",
   "execution_count": 97,
   "id": "a8f35098-31e2-4735-83c8-30bad5c96b06",
   "metadata": {},
   "outputs": [
    {
     "name": "stdout",
     "output_type": "stream",
     "text": [
      "['surabaya', 'jogja', 'bandung', 'jakarta']\n"
     ]
    }
   ],
   "source": [
    "print(locations)"
   ]
  },
  {
   "cell_type": "code",
   "execution_count": 98,
   "id": "d15bb98f-4fe8-4543-bac9-f2e913bb9426",
   "metadata": {},
   "outputs": [
    {
     "name": "stdout",
     "output_type": "stream",
     "text": [
      "['jakarta', 'bandung', 'jogja', 'surabaya']\n"
     ]
    }
   ],
   "source": [
    "locations.reverse()\n",
    "print(locations)"
   ]
  },
  {
   "cell_type": "code",
   "execution_count": 99,
   "id": "75d8495f-b507-475e-a8a6-7dafaf990fce",
   "metadata": {},
   "outputs": [],
   "source": [
    "locations.sort(reverse = True)"
   ]
  },
  {
   "cell_type": "code",
   "execution_count": 100,
   "id": "be5ec23f-1a96-479f-86f3-b6b2df6f80ad",
   "metadata": {},
   "outputs": [
    {
     "name": "stdout",
     "output_type": "stream",
     "text": [
      "['surabaya', 'jogja', 'jakarta', 'bandung']\n"
     ]
    }
   ],
   "source": [
    "print(locations)"
   ]
  },
  {
   "cell_type": "code",
   "execution_count": 101,
   "id": "9213774a-1ed3-4703-a743-1bf54dc3d098",
   "metadata": {},
   "outputs": [
    {
     "name": "stdout",
     "output_type": "stream",
     "text": [
      "['bandung', 'jakarta', 'jogja', 'surabaya']\n"
     ]
    }
   ],
   "source": [
    "locations.sort()\n",
    "print(locations)"
   ]
  },
  {
   "cell_type": "code",
   "execution_count": null,
   "id": "7c973b21-ddce-4cd2-9f49-79b5ba01a91a",
   "metadata": {},
   "outputs": [],
   "source": []
  }
 ],
 "metadata": {
  "kernelspec": {
   "display_name": "Python 3",
   "language": "python",
   "name": "python3"
  },
  "language_info": {
   "codemirror_mode": {
    "name": "ipython",
    "version": 3
   },
   "file_extension": ".py",
   "mimetype": "text/x-python",
   "name": "python",
   "nbconvert_exporter": "python",
   "pygments_lexer": "ipython3",
   "version": "3.9.1"
  }
 },
 "nbformat": 4,
 "nbformat_minor": 5
}
